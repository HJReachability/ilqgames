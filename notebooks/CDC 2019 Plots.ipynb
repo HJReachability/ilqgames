{
 "cells": [
  {
   "cell_type": "code",
   "execution_count": 1,
   "metadata": {
    "collapsed": true
   },
   "outputs": [],
   "source": [
    "import matplotlib.pyplot as plt\n",
    "import matplotlib\n",
    "from matplotlib.collections import LineCollection\n",
    "from matplotlib.colors import ListedColormap, BoundaryNorm\n",
    "from matplotlib.lines import Line2D\n",
    "from matplotlib.path import Path\n",
    "from matplotlib.transforms import Affine2D\n",
    "from matplotlib.patches import PathPatch\n",
    "import numpy as np\n",
    "import dill\n",
    "import scipy.io\n",
    "%matplotlib inline"
   ]
  },
  {
   "cell_type": "code",
   "execution_count": 2,
   "metadata": {
    "collapsed": true
   },
   "outputs": [],
   "source": [
    "# Set up global matplotlib params. \n",
    "matplotlib.rc('font',family='serif')\n",
    "matplotlib.rc('text', usetex=True)\n",
    "# matplotlib.rc('font',family='serif', serif=['Times'])"
   ]
  },
  {
   "cell_type": "markdown",
   "metadata": {},
   "source": [
    "# Two Player Zero Sum"
   ]
  },
  {
   "cell_type": "code",
   "execution_count": 148,
   "metadata": {},
   "outputs": [],
   "source": [
    "# Load the ILQG data.\n",
    "# fp = open('../python/logs/two_player_zero_sum/goal_75_100_init_pi_2_5_v_5_dist.pkl', 'rb')\n",
    "fp = open('../python/logs/two_player_zero_sum/goal_75_100_init_pi_6_v_5_dist.pkl', 'rb')\n",
    "ilqg_data_top = dill.load(fp)\n",
    "fp.close()\n",
    "\n",
    "# fp = open('../python/logs/two_player_zero_sum/goal_75_100_init_pi_10_v_10.pkl', 'rb')\n",
    "# ilqg_data_bottom = dill.load(fp)\n",
    "# fp.close()\n",
    "\n",
    "# Load the HJI data. \n",
    "hji_data_top = scipy.io.loadmat('../python/logs/unicycle_4d_reach_avoid_example_wMax_1_aMax_2_dMax_0.2_cost_u_10_cost_d_10_ang_1.2566_log_data.mat')\n",
    "# hji_data_bottom = scipy.io.loadmat('../python/logs/unicycle_4d_reach_avoid_example_wMax_1_aMax_2_dMax_0.2_cost_u_10_cost_d_10_ang_0.31416_log_data.mat')"
   ]
  },
  {
   "cell_type": "code",
   "execution_count": 56,
   "metadata": {
    "collapsed": true
   },
   "outputs": [],
   "source": [
    "# Environment parameters.\n",
    "goal = (75.0, 100.0)\n",
    "obstacle_centers = [(100.0, 35.0), (65.0, 65.0), (25.0, 80.0)]\n",
    "obstacle_radii = [10.0, 10.0, 10.0]\n",
    "x_lims = (0, 150)\n",
    "y_lims = (0, 125)\n",
    "T = 0.1"
   ]
  },
  {
   "cell_type": "code",
   "execution_count": 57,
   "metadata": {
    "collapsed": true
   },
   "outputs": [],
   "source": [
    "def plot_obstacles(ax):\n",
    "    for center, radius in zip(obstacle_centers, obstacle_radii):\n",
    "        circle = plt.Circle((center[0], center[1]), radius, color='grey', fill=True, alpha=0.75)\n",
    "        ax.add_artist(circle)\n",
    "        # ax.text(center[0] - 1.25, center[1] - 1.25, \"obs\", fontsize=8)\n",
    "        \n",
    "def plot_goal(ax):\n",
    "    ax.scatter(goal[0], goal[1], s=75, c='g', marker='*')"
   ]
  },
  {
   "cell_type": "code",
   "execution_count": 105,
   "metadata": {
    "collapsed": true
   },
   "outputs": [],
   "source": [
    "def plot_vel_traj(ax, traj, downsample, vel_lims=None):    \n",
    "    xs = np.array([x[0, 0] for k, x in enumerate(traj) if k % downsample == 0])\n",
    "    ys = np.array([x[1, 0] for k, x in enumerate(traj) if k % downsample == 0])\n",
    "    \n",
    "    # Use the velocity along the trajectory to color it.\n",
    "    vel = np.array([x[3, 0] for k, x in enumerate(traj) if k % downsample == 0])\n",
    "    \n",
    "    points = np.array([xs, ys]).T.reshape(-1, 1, 2)\n",
    "    segments = np.concatenate([points[:-1], points[1:]], axis=1)    \n",
    "    \n",
    "    min_vel = vel_lims[0] if vel_lims is not None else vel.min()\n",
    "    max_vel = vel_lims[1] if vel_lims is not None else vel.max()\n",
    "    \n",
    "    print(\"min_vel = {}, max_vel = {}\".format(min_vel, max_vel))\n",
    "    \n",
    "    norm = plt.Normalize(min_vel, max_vel)\n",
    "    lc = LineCollection(segments, cmap='viridis', norm=norm)\n",
    "\n",
    "    # Set the velocity to be used for color mapping.\n",
    "    lc.set_array(vel)\n",
    "    lc.set_linewidth(2)\n",
    "#     lc.set_linewidth(5)\n",
    "    lc.set_alpha(0.75)\n",
    "    line = ax.add_collection(lc)\n",
    "    \n",
    "    return line"
   ]
  },
  {
   "cell_type": "code",
   "execution_count": 72,
   "metadata": {},
   "outputs": [
    {
     "data": {
      "text/plain": [
       "array([[ -8.63682963],\n",
       "       [-11.81647296]])"
      ]
     },
     "execution_count": 72,
     "metadata": {},
     "output_type": "execute_result"
    }
   ],
   "source": [
    "ilqg_data_top['us'][-1][1][0]"
   ]
  },
  {
   "cell_type": "code",
   "execution_count": 109,
   "metadata": {
    "collapsed": true
   },
   "outputs": [],
   "source": [
    "def plot_dist_traj(ax, traj, us, downsample, scale=1):\n",
    "    xs = np.array([x[0, 0] for k, x in enumerate(traj) if k % downsample == 0])\n",
    "    ys = np.array([x[1, 0] for k, x in enumerate(traj) if k % downsample == 0])\n",
    "    \n",
    "    dists = us[1]\n",
    "    \n",
    "    dxs = [scale * d[0, 0] for k, d in enumerate(dists) if k % downsample == 0]\n",
    "    dys = [scale * d[1, 0] for k, d in enumerate(dists) if k % downsample == 0]\n",
    "    \n",
    "    ax.quiver(xs, ys, dxs, dys, zorder=40, alpha=0.35, headwidth=6, color=(0.5, 0.5, 0.5, 1.))"
   ]
  },
  {
   "cell_type": "code",
   "execution_count": 106,
   "metadata": {
    "collapsed": true
   },
   "outputs": [],
   "source": [
    "def plot_iteration(ax, iteration, data, downsample=1):\n",
    "    ax.set_title('Iteration ' + str(iteration), fontsize=18)\n",
    "    \n",
    "    ilqg_data = data['ilqg']\n",
    "    hji_data = data['hji']\n",
    "    \n",
    "    # Plot the obstacles.\n",
    "    plot_obstacles(ax)\n",
    "    \n",
    "    # Plot the goal.\n",
    "    plot_goal(ax)\n",
    "    \n",
    "    ################################################################################\n",
    "    # Plot the ILQG trajectory.\n",
    "    ilqg_traj = ilqg_data['xs'][iteration]\n",
    "    ilqg_us = ilqg_data['us'][iteration]\n",
    "    \n",
    "#     ilqg_xs = [x[0, 0] for k, x in enumerate(ilqg_traj) if k % downsample == 0]\n",
    "#     ilqg_ys = [x[1, 0] for k, x in enumerate(ilqg_traj) if k % downsample == 0]\n",
    "    \n",
    "    plot_dist_traj(ax, ilqg_traj, ilqg_us, 2, scale=2)\n",
    "    \n",
    "    ilqg_line = None\n",
    "    ilqg_line = plot_vel_traj(ax, ilqg_traj, downsample, vel_lims=(0, 30))\n",
    "#     ax.plot(xs, ys, '.-b', label=\"ILQ game\", alpha=1., markersize=2)\n",
    "    ################################################################################\n",
    "    \n",
    "    ################################################################################\n",
    "    # Plot the HJI trajectory.\n",
    "    hji_line = None\n",
    "#     hji_traj = hji_data['traj']\n",
    "#     hji_line = ax.plot(hji_traj[0, :], hji_traj[1, :], label='HJI', linestyle='dashed', c='b')\n",
    "#     ax.plot(xs, ys, '.-b', label=\"ILQ game\", alpha=1., markersize=2)\n",
    "    ################################################################################\n",
    "    \n",
    "    ax.set_xlim(x_lims)\n",
    "    ax.set_ylim(y_lims)\n",
    "    ax.set_xlabel('$x(t)$', fontsize=16)\n",
    "    ax.set_ylabel('$y(t)$', fontsize=16)\n",
    "    \n",
    "    # Remove the x and y ticks.\n",
    "    plt.sca(ax)\n",
    "    plt.xticks([])\n",
    "    plt.yticks([])\n",
    "    \n",
    "    return ilqg_line, hji_line"
   ]
  },
  {
   "cell_type": "markdown",
   "metadata": {},
   "source": [
    "## Top figure"
   ]
  },
  {
   "cell_type": "code",
   "execution_count": 149,
   "metadata": {},
   "outputs": [
    {
     "name": "stdout",
     "output_type": "stream",
     "text": [
      "min_vel = 0, max_vel = 30\n",
      "min_vel = 0, max_vel = 30\n",
      "min_vel = 0, max_vel = 30\n",
      "min_vel = 0, max_vel = 30\n"
     ]
    },
    {
     "name": "stderr",
     "output_type": "stream",
     "text": [
      "/home/eratner/.pyenv/versions/3.6.6/lib/python3.6/site-packages/matplotlib/quiver.py:665: RuntimeWarning: divide by zero encountered in double_scalars\n",
      "  length = a * (widthu_per_lenu / (self.scale * self.width))\n",
      "/home/eratner/.pyenv/versions/3.6.6/lib/python3.6/site-packages/matplotlib/quiver.py:665: RuntimeWarning: invalid value encountered in multiply\n",
      "  length = a * (widthu_per_lenu / (self.scale * self.width))\n",
      "/home/eratner/.pyenv/versions/3.6.6/lib/python3.6/site-packages/matplotlib/quiver.py:717: RuntimeWarning: invalid value encountered in less\n",
      "  short = np.repeat(length < minsh, 8, axis=1)\n",
      "/home/eratner/.pyenv/versions/3.6.6/lib/python3.6/site-packages/matplotlib/quiver.py:731: RuntimeWarning: invalid value encountered in less\n",
      "  tooshort = length < self.minlength\n"
     ]
    },
    {
     "data": {
      "image/png": "[encoded data removed]",
      "text/plain": [
       "<Figure size 1296x244.8 with 5 Axes>"
      ]
     },
     "metadata": {
      "needs_background": "light"
     },
     "output_type": "display_data"
    }
   ],
   "source": [
    "iterations = [0, 50, 100, 200]\n",
    "fig, axes = plt.subplots(1, len(iterations))\n",
    "\n",
    "data = {'ilqg': ilqg_data_top, 'hji': hji_data_top}\n",
    "\n",
    "ilqg_line = None\n",
    "hji_line = None\n",
    "for i, axi in zip(iterations, axes):\n",
    "    axi.set_aspect('equal')\n",
    "    ilqg_line, hji_line = plot_iteration(axi, i, data, downsample=3)\n",
    "        \n",
    "if ilqg_line is not None:\n",
    "    bar = fig.colorbar(ilqg_line, ax=axes.ravel().tolist())\n",
    "    bar.ax.set_ylabel('m/s', rotation=270, labelpad=24, fontsize=16)\n",
    "\n",
    "fig.set_figwidth(4 * len(iterations) + 2)\n",
    "fig.set_figheight(3.4)\n",
    "plt.savefig('plots/two_player_zero_sum_top.pdf', bbox_inches='tight')"
   ]
  },
  {
   "cell_type": "markdown",
   "metadata": {},
   "source": [
    "## Bottom figure"
   ]
  },
  {
   "cell_type": "code",
   "execution_count": null,
   "metadata": {},
   "outputs": [],
   "source": [
    "fig, axes = plt.subplots(1, len(iterations))\n",
    "\n",
    "data = {'ilqg': ilqg_data_bottom, 'hji': hji_data_bottom}\n",
    "\n",
    "ilqg_line = None\n",
    "hji_line = None\n",
    "for i, axi in zip(iterations, axes):\n",
    "    axi.set_aspect('equal')\n",
    "    ilqg_line, hji_line = plot_iteration(axi, i, data, downsample=3)\n",
    "        \n",
    "if ilqg_line is not None:\n",
    "    bar = fig.colorbar(ilqg_line, ax=axes.ravel().tolist())\n",
    "    bar.ax.set_ylabel('m/s', rotation=270, labelpad=24, fontsize=16)\n",
    "    \n",
    "plt.legend((Line2D([0], [0], color='b', linestyle='--'),), \n",
    "           ('HJI',),\n",
    "          loc='lower right',\n",
    "          fontsize=16,\n",
    "          framealpha=0,\n",
    "          bbox_to_anchor=(1.05, -0.05))\n",
    "\n",
    "fig.set_figwidth(4 * len(iterations) + 2)\n",
    "fig.set_figheight(3.4)\n",
    "plt.savefig('plots/two_player_zero_sum_bottom.pdf', bbox_inches='tight')"
   ]
  },
  {
   "cell_type": "code",
   "execution_count": null,
   "metadata": {},
   "outputs": [],
   "source": [
    "# fig, axes = plt.subplots(3, len(iterations))\n",
    "\n",
    "# downsample = 1\n",
    "\n",
    "# for ii in range(len(iterations)):\n",
    "#     ilqg_us = ilqg_data['us'][iterations[ii]][0]\n",
    "    \n",
    "#     # TODO: Add plots from the HJI \n",
    "    \n",
    "#     ilqg_omeg = [u[0, 0] for k, u in enumerate(ilqg_us) if k % downsample == 0]\n",
    "#     ilqg_accs = [u[1, 0] for k, u in enumerate(ilqg_us) if k % downsample == 0]\n",
    "#     ts = [T * k for k in range(len(ilqg_us)) if k % downsample == 0]\n",
    "    \n",
    "#     # Plot ILQG/HJI acceleration control input.\n",
    "#     axes[0, ii].plot(ts, ilqg_accs)\n",
    "#     axes[0, ii].set_xlabel('$t$ (s)', fontsize=16)\n",
    "#     axes[0, ii].set_ylabel('$a(t)$ (m/s/s)', fontsize=16)\n",
    "    \n",
    "#     # Plot the ILQG/HJI angular velocity control input.\n",
    "#     axes[1, ii].plot(ts, ilqg_omeg)\n",
    "#     axes[1, ii].set_xlabel('$t$ (s)', fontsize=16)\n",
    "#     axes[1, ii].set_ylabel('$\\omega(t)$ (rad/s)', fontsize=16)\n",
    "    \n",
    "#     ilqg_ds = ilqg_data['us'][iterations[ii]][1]\n",
    "    \n",
    "#     ilqg_dvxs = [u[0, 0] for k, u in enumerate(ilqg_ds) if k % downsample == 0]\n",
    "#     ilqg_dvys = [u[1, 0] for k, u in enumerate(ilqg_ds) if k % downsample == 0]\n",
    "    \n",
    "#     # Plot the ILQG/HJI disturbance inputs. \n",
    "#     axes[2, ii].plot(ts, ilqg_dvxs)\n",
    "#     axes[2, ii].plot(ts, ilqg_dvys)\n",
    "#     axes[2, ii].set_xlabel('$t$ (s)', fontsize=16)\n",
    "#     axes[2, ii].set_ylabel('$\\d_1(t), d_t')\n",
    "    \n",
    "# fig.set_figwidth(4 * len(iterations) + 2)\n",
    "# fig.set_figheight(12)\n",
    "# plt.savefig('plots/two_player_zero_sum_ctrl_dstb.pdf', bbox_inches='tight')"
   ]
  },
  {
   "cell_type": "markdown",
   "metadata": {
    "collapsed": true
   },
   "source": [
    "# Three Player General Sum"
   ]
  },
  {
   "cell_type": "code",
   "execution_count": 140,
   "metadata": {
    "collapsed": true
   },
   "outputs": [],
   "source": [
    "# Load the ILQG data.\n",
    "fp = open('../python/logs/three_player/intersection_car_example.pkl', 'rb')\n",
    "three_player_data = dill.load(fp)\n",
    "fp.close()"
   ]
  },
  {
   "cell_type": "code",
   "execution_count": 5,
   "metadata": {
    "collapsed": true
   },
   "outputs": [],
   "source": [
    "player_goals = [(6, 30), (20, 12), (15, 18)]\n",
    "player_xy_indices = [(0, 1), (5, 6), (10, 11)]\n",
    "player_rot_indices = [2, 7, 12]\n",
    "goal_radii = [1.5, 1.5, 1.5]\n",
    "player_colors = [(179/255, 0, 0, 1),\n",
    "                 (0, 179/255, 0, 1), \n",
    "                 (0, 0, 179/255, 1)]\n",
    "player_labels = ['Player 1', 'Player 2', 'Player 3']"
   ]
  },
  {
   "cell_type": "code",
   "execution_count": 6,
   "metadata": {
    "collapsed": true
   },
   "outputs": [],
   "source": [
    "def plot_three_player_goals(ax):\n",
    "    for ii, goal in enumerate(player_goals):\n",
    "        circle = plt.Circle(\n",
    "            (goal[0], goal[1]), goal_radii[ii], color=player_colors[ii], fill=True, alpha=0.5)\n",
    "        ax.add_artist(circle)"
   ]
  },
  {
   "cell_type": "code",
   "execution_count": 47,
   "metadata": {
    "collapsed": true
   },
   "outputs": [],
   "source": [
    "def plot_three_player_costs(ax):\n",
    "    # Plot player 1 path.\n",
    "    player1_path_xs = [6, 6]\n",
    "    player1_path_ys = [-100, 100]\n",
    "    \n",
    "    lines = ax.plot(player1_path_xs, \n",
    "                    player1_path_ys, \n",
    "                    color=(204/255, 204/255, 204/255, 1.), \n",
    "                    alpha=0.5,\n",
    "                    linewidth=25,\n",
    "                    zorder=0)\n",
    "    \n",
    "    # Plot player 2 path.\n",
    "    player2_path_xs = [2, 2, 2.5, 3, 5, 8, 100]\n",
    "    player2_path_ys = [100, 18, 15, 14, 12.5, 12, 12]\n",
    "    \n",
    "    ax.plot(player2_path_xs, \n",
    "            player2_path_ys, \n",
    "            color=(204/255, 204/255, 204/255, 1.), \n",
    "            alpha=0.5,\n",
    "            linewidth=25,\n",
    "            zorder=0)\n",
    "\n",
    "    # Plot player 3 path (crosswalk).\n",
    "    player3_crosswalk_xs = [-3, 0, 3, 6, 9, 12]\n",
    "    player3_crosswalk_ys = [18, 18, 18, 18, 18, 18]\n",
    "    \n",
    "    crosswalk_width = 2\n",
    "    crosswalk_height = 4\n",
    "    \n",
    "    for x, y in zip(player3_crosswalk_xs, player3_crosswalk_ys):\n",
    "        rect = plt.Rectangle((x - crosswalk_width / 2, \n",
    "                              y - crosswalk_height / 2), \n",
    "                             crosswalk_width,\n",
    "                             crosswalk_height, \n",
    "                             fill=True, \n",
    "                             color=(255/255, 255/255, 153/255, 1.), \n",
    "                             alpha=0.5,\n",
    "                             zorder=0)\n",
    "        ax.add_artist(rect)"
   ]
  },
  {
   "cell_type": "code",
   "execution_count": 119,
   "metadata": {
    "collapsed": true
   },
   "outputs": [],
   "source": [
    "def plot_player_at(ax, player_idx, x, y, rot, scale=1., alpha=1., label=True):\n",
    "    unit_tri = Path.unit_regular_polygon(3)\n",
    "        \n",
    "    path = Path(unit_tri.vertices * np.array([[1.75], [1], [1], [1.75]]) * scale, unit_tri.codes)\n",
    "    trans = Affine2D().translate(x, y).rotate_around(x, y, rot)\n",
    "    \n",
    "    player_label = None\n",
    "    if label:\n",
    "        player_label = player_labels[player_idx]\n",
    "        \n",
    "    patch = PathPatch(\n",
    "        path.transformed(trans), facecolor=player_colors[player_idx], label=player_label, alpha=alpha)\n",
    "    ax.add_patch(patch)"
   ]
  },
  {
   "cell_type": "code",
   "execution_count": 146,
   "metadata": {},
   "outputs": [],
   "source": [
    "def filter_three_player_traj(xs_in, ys_in, rot_in, thresh=0.5):\n",
    "    last_x = np.inf\n",
    "    last_y = np.inf\n",
    "    \n",
    "    xs_out = []\n",
    "    ys_out = []\n",
    "    rot_out = []\n",
    "    \n",
    "    for ii in range(len(xs_in)):\n",
    "        x = xs_in[ii]\n",
    "        y = ys_in[ii]\n",
    "        rot = rot_in[ii]\n",
    "        if np.sqrt((x - last_x) ** 2 + (y - last_y) **2) > thresh:\n",
    "            xs_out.append(x)\n",
    "            ys_out.append(y)\n",
    "            rot_out.append(rot)\n",
    "        \n",
    "        last_x = x\n",
    "        last_y = y\n",
    "    \n",
    "    return xs_out, ys_out, rot_out\n",
    "\n",
    "def plot_three_player_segment(ax, segment, xlabel='$x(t)$', ylabel='$y(t)$', faded_segment=None):\n",
    "    ax.set_title('${} \\leq t \\leq {}$'.format(T * segment[0],\n",
    "                                              T * segment[1]), fontsize=24)\n",
    "    \n",
    "    # Plot the goals.\n",
    "    plot_three_player_goals(ax)\n",
    "    \n",
    "    # Plot the costs.\n",
    "    plot_three_player_costs(ax)\n",
    "    \n",
    "    # Plot the trajectory (from the final iteration).\n",
    "    traj = three_player_data['xs'][-1].copy()\n",
    "    for ii, idx in enumerate(player_xy_indices):\n",
    "        xs = [w[idx[0]] for w in traj[segment[0]:segment[1]]]\n",
    "        ys = [w[idx[1]] for w in traj[segment[0]:segment[1]]]\n",
    "        rots = [w[player_rot_indices[ii]] for w in traj[segment[0]:segment[1]]]\n",
    "        \n",
    "        # TODO: Hack! (But works for the sake of the paper deadline)\n",
    "        if ii == 1:\n",
    "            xs, ys, rots = filter_three_player_traj(xs, ys, rots)\n",
    "            \n",
    "        ax.plot(xs, ys, c=player_colors[ii])\n",
    "        \n",
    "        final_x = xs[-1]\n",
    "        final_y = ys[-1]\n",
    "        final_rot = rots[-1] - 0.5 * np.pi\n",
    "        plot_player_at(ax, ii, final_x, final_y, final_rot, scale=1.)\n",
    "        \n",
    "        if faded_segment is not None:\n",
    "            ax.plot([w[idx[0]] for w in traj[faded_segment[0]:faded_segment[1]]],\n",
    "                    [w[idx[1]] for w in traj[faded_segment[0]:faded_segment[1]]],\n",
    "                    c=player_colors[ii],\n",
    "                    alpha=0.25,\n",
    "                    label=None)\n",
    "            \n",
    "            final_x = traj[faded_segment[1] - 1][player_xy_indices[ii][0]]\n",
    "            final_y = traj[faded_segment[1] - 1][player_xy_indices[ii][1]]\n",
    "            final_rot = traj[faded_segment[1] - 1][player_rot_indices[ii]] - 0.5 * np.pi\n",
    "            plot_player_at(ax, ii, final_x, final_y, final_rot, scale=1., alpha=0.25, label=False)\n",
    "    \n",
    "    ax.set_xlim([-5, 25])\n",
    "    ax.set_ylim([-5, 35])\n",
    "    ax.set_xlabel(xlabel, fontsize=18)\n",
    "    ax.set_ylabel(ylabel, fontsize=18)\n",
    "    ax.set_xticks([])\n",
    "    ax.set_yticks([])"
   ]
  },
  {
   "cell_type": "code",
   "execution_count": 147,
   "metadata": {},
   "outputs": [
    {
     "data": {
      "image/png": "[encoded data removed]",
      "text/plain": [
       "<Figure size 864x360 with 3 Axes>"
      ]
     },
     "metadata": {},
     "output_type": "display_data"
    }
   ],
   "source": [
    "iteration_segments = [(0, 8), (8, 15), (15, 50)]\n",
    "fig, axes = plt.subplots(1, len(iteration_segments))\n",
    "\n",
    "for ii, axi in enumerate(axes):\n",
    "    ylabel = '$y(t)$'\n",
    "    if ii > 0:\n",
    "        ylabel = ''\n",
    "        \n",
    "    faded_segment = None\n",
    "    if ii > 0:\n",
    "        faded_segment = iteration_segments[ii - 1]\n",
    "        \n",
    "    plot_three_player_segment(axi, iteration_segments[ii], ylabel=ylabel, faded_segment=faded_segment)\n",
    "    axi.set_aspect('equal')\n",
    "\n",
    "axes[1].legend(loc='lower center',\n",
    "                fontsize=16,\n",
    "                framealpha=0,\n",
    "                bbox_to_anchor=(0.5, -0.225),\n",
    "                ncol=3) # To make the legend horizontal.\n",
    "    \n",
    "fig.set_figwidth(4 * len(iteration_segments))\n",
    "fig.set_figheight(5)\n",
    "plt.savefig('plots/three_player_example.pdf', bbox_inches='tight')"
   ]
  },
  {
   "cell_type": "markdown",
   "metadata": {},
   "source": [
    "# Front Figure"
   ]
  },
  {
   "cell_type": "code",
   "execution_count": 51,
   "metadata": {},
   "outputs": [
    {
     "data": {
      "image/png": "[encoded data removed]",
      "text/plain": [
       "<Figure size 432x288 with 1 Axes>"
      ]
     },
     "metadata": {},
     "output_type": "display_data"
    }
   ],
   "source": [
    "fig = plt.figure()\n",
    "\n",
    "ax = fig.gca()\n",
    "\n",
    "# Plot the goals.\n",
    "plot_three_player_goals(ax)\n",
    "\n",
    "# Plot the costs.\n",
    "plot_three_player_costs(ax)\n",
    "    \n",
    "# Plot the trajectory (from the final iteration).\n",
    "traj = three_player_data['xs'][-1]\n",
    "for ii, idx in enumerate(player_xy_indices):\n",
    "    ax.plot([w[idx[0]] for w in traj],\n",
    "            [w[idx[1]] for w in traj],\n",
    "            c=player_colors[ii],\n",
    "            linestyle='dashed')\n",
    "\n",
    "arrow_every_k = 5\n",
    "for ii in range(len(player_rot_indices)):\n",
    "    last_x = np.inf\n",
    "    last_y = np.inf\n",
    "    for jj in range(int(len(traj) / arrow_every_k)):\n",
    "        idx = min(jj * 10, len(traj) - 1)\n",
    "        x = traj[idx][player_xy_indices[ii][0]]\n",
    "        y = traj[idx][player_xy_indices[ii][1]]\n",
    "        rot = traj[idx][player_rot_indices[ii]] - 0.5 * np.pi\n",
    "        if np.sqrt((x - last_x) ** 2 + (y - last_y) **2) > 0.5:\n",
    "            plot_player_at(ax, ii, x, y, rot, scale=0.75)\n",
    "            \n",
    "        last_x = x\n",
    "        last_y = y\n",
    "\n",
    "ax.set_xlim([-2, 22])\n",
    "ax.set_ylim([-2, 32])\n",
    "# ax.set_xlabel('$x(t)$', fontsize=18)\n",
    "# ax.set_ylabel('$y(t)$', fontsize=18)\n",
    "ax.set_xticks([])\n",
    "ax.set_yticks([])\n",
    "\n",
    "ax.set_aspect('equal')\n",
    "\n",
    "# fig.set_figwidth(5)\n",
    "# fig.set_figheight(5.5)\n",
    "plt.savefig('plots/three_player_front_fig.pdf', bbox_inches='tight')"
   ]
  }
 ],
 "metadata": {
  "kernelspec": {
   "display_name": "Python 3",
   "language": "python",
   "name": "python3"
  },
  "language_info": {
   "codemirror_mode": {
    "name": "ipython",
    "version": 3
   },
   "file_extension": ".py",
   "mimetype": "text/x-python",
   "name": "python",
   "nbconvert_exporter": "python",
   "pygments_lexer": "ipython3",
   "version": "3.6.6"
  }
 },
 "nbformat": 4,
 "nbformat_minor": 2
}
