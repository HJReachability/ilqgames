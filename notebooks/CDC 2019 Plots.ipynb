{
 "cells": [
  {
   "cell_type": "code",
   "execution_count": null,
   "metadata": {
    "collapsed": true
   },
   "outputs": [],
   "source": [
    "import matplotlib.pyplot as plt\n",
    "import matplotlib\n",
    "from matplotlib.collections import LineCollection\n",
    "from matplotlib.colors import ListedColormap, BoundaryNorm\n",
    "import numpy as np\n",
    "import dill\n",
    "%matplotlib inline"
   ]
  },
  {
   "cell_type": "code",
   "execution_count": null,
   "metadata": {
    "collapsed": true
   },
   "outputs": [],
   "source": [
    "# Set up global matplotlib params. \n",
    "matplotlib.rc('font',family='serif')\n",
    "matplotlib.rc('text', usetex=True)\n",
    "# matplotlib.rc('font',family='serif', serif=['Times'])"
   ]
  },
  {
   "cell_type": "markdown",
   "metadata": {},
   "source": [
    "# Two Player Zero Sum"
   ]
  },
  {
   "cell_type": "code",
   "execution_count": null,
   "metadata": {},
   "outputs": [],
   "source": [
    "# Load the data.\n",
    "path_to_log = '../python/logs/two_player_zero_sum/unicycle_4d_example.pkl'\n",
    "fp = open(path_to_log, 'rb')\n",
    "data = dill.load(fp)\n",
    "fp.close()"
   ]
  },
  {
   "cell_type": "code",
   "execution_count": null,
   "metadata": {},
   "outputs": [],
   "source": [
    "# Environment parameters.\n",
    "goal = (100.0, 100.0)\n",
    "obstacle_centers = [(100.0, 35.0), (65.0, 65.0), (25.0, 80.0)]\n",
    "obstacle_radii = [10.0, 10.0, 10.0]\n",
    "x_lims = (0, 150)\n",
    "y_lims = (0, 125)"
   ]
  },
  {
   "cell_type": "code",
   "execution_count": null,
   "metadata": {
    "collapsed": true
   },
   "outputs": [],
   "source": [
    "def plot_obstacles(ax):\n",
    "    for center, radius in zip(obstacle_centers, obstacle_radii):\n",
    "        circle = plt.Circle((center[0], center[1]), radius, color='grey', fill=True, alpha=0.75)\n",
    "        ax.add_artist(circle)\n",
    "        # ax.text(center[0] - 1.25, center[1] - 1.25, \"obs\", fontsize=8)\n",
    "        \n",
    "def plot_goal(ax):\n",
    "    ax.scatter(goal[0], goal[1], s=75, c='g', marker='*')"
   ]
  },
  {
   "cell_type": "code",
   "execution_count": null,
   "metadata": {
    "collapsed": true
   },
   "outputs": [],
   "source": [
    "def plot_vel_traj(ax, traj, downsample, vel_lims=None):    \n",
    "    xs = np.array([x[0, 0] for k, x in enumerate(traj) if k % downsample == 0])\n",
    "    ys = np.array([x[1, 0] for k, x in enumerate(traj) if k % downsample == 0])\n",
    "    \n",
    "    # Use the velocity along the trajectory to color it.\n",
    "    vel = np.array([x[3, 0] for k, x in enumerate(traj) if k % downsample == 0])\n",
    "    \n",
    "    points = np.array([xs, ys]).T.reshape(-1, 1, 2)\n",
    "    segments = np.concatenate([points[:-1], points[1:]], axis=1)    \n",
    "    \n",
    "    min_vel = vel_lims[0] if vel_lims is not None else vel.min()\n",
    "    max_vel = vel_lims[1] if vel_lims is not None else vel.max()\n",
    "    \n",
    "    print(\"min_vel = {}, max_vel = {}\".format(min_vel, max_vel))\n",
    "    \n",
    "    norm = plt.Normalize(min_vel, max_vel)\n",
    "    lc = LineCollection(segments, cmap='viridis', norm=norm)\n",
    "\n",
    "    # Set the velocity to be used for color mapping.\n",
    "    lc.set_array(vel)\n",
    "    lc.set_linewidth(2)\n",
    "    line = ax.add_collection(lc)\n",
    "    \n",
    "    return line"
   ]
  },
  {
   "cell_type": "code",
   "execution_count": null,
   "metadata": {
    "collapsed": true
   },
   "outputs": [],
   "source": [
    "def plot_iteration(ax, iteration, downsample=1):\n",
    "    ax.set_title('Iteration ' + str(iteration), fontsize=18)\n",
    "    \n",
    "    # Plot the obstacles.\n",
    "    plot_obstacles(ax)\n",
    "    \n",
    "    # Plot the goal.\n",
    "    plot_goal(ax)\n",
    "    \n",
    "    # Plot the trajectory.\n",
    "    traj = data['xs'][iteration]\n",
    "    \n",
    "    xs = [x[0, 0] for k, x in enumerate(traj) if k % downsample == 0]\n",
    "    ys = [x[1, 0] for k, x in enumerate(traj) if k % downsample == 0]\n",
    "    \n",
    "    traj_line = None\n",
    "    traj_line = plot_vel_traj(ax, traj, downsample, vel_lims=(0, 30))\n",
    "#     ax.plot(xs, ys, '.-b', label=\"ILQ game\", alpha=1., markersize=2)\n",
    "\n",
    "    ax.set_xlim(x_lims)\n",
    "    ax.set_ylim(y_lims)\n",
    "    ax.set_xlabel('$x(t)$', fontsize=16)\n",
    "    ax.set_ylabel('$y(t)$', fontsize=16)\n",
    "\n",
    "    # Remove the x and y ticks.\n",
    "    plt.sca(ax)\n",
    "    plt.xticks([])\n",
    "    plt.yticks([])\n",
    "    \n",
    "    return traj_line"
   ]
  },
  {
   "cell_type": "code",
   "execution_count": null,
   "metadata": {},
   "outputs": [],
   "source": [
    "iterations = [0, 50, 100, 150]\n",
    "fig, axes = plt.subplots(1, len(iterations))\n",
    "\n",
    "traj_line = None\n",
    "for i, axi in zip(iterations, axes):\n",
    "    traj_line = plot_iteration(axi, i, downsample=3)\n",
    "        \n",
    "if traj_line is not None:\n",
    "#     fig.colorbar(traj_line, ax=axes[-1])\n",
    "    fig.colorbar(traj_line, ax=axes.ravel().tolist())\n",
    "\n",
    "fig.set_figwidth(4 * len(iterations) + 2)\n",
    "fig.set_figheight(3.4)\n",
    "plt.savefig('plots/two_player_zero_sum_top.pdf', bbox_inches='tight')"
   ]
  }
 ],
 "metadata": {
  "kernelspec": {
   "display_name": "Python 3",
   "language": "python",
   "name": "python3"
  },
  "language_info": {
   "codemirror_mode": {
    "name": "ipython",
    "version": 3
   },
   "file_extension": ".py",
   "mimetype": "text/x-python",
   "name": "python",
   "nbconvert_exporter": "python",
   "pygments_lexer": "ipython3",
   "version": "3.6.6"
  }
 },
 "nbformat": 4,
 "nbformat_minor": 2
}
